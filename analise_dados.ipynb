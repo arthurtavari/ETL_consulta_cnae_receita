{
 "nbformat": 4,
 "nbformat_minor": 2,
 "metadata": {
  "language_info": {
   "name": "python",
   "codemirror_mode": {
    "name": "ipython",
    "version": 3
   },
   "version": "3.8.1-final"
  },
  "orig_nbformat": 2,
  "file_extension": ".py",
  "mimetype": "text/x-python",
  "name": "python",
  "npconvert_exporter": "python",
  "pygments_lexer": "ipython3",
  "version": 3,
  "kernelspec": {
   "name": "python38132bitb9c998815ef54a6c84af31edfb87be07",
   "display_name": "Python 3.8.1 32-bit"
  }
 },
 "cells": [
  {
   "cell_type": "code",
   "execution_count": 2,
   "metadata": {},
   "outputs": [],
   "source": [
    "import pandas as pd"
   ]
  },
  {
   "cell_type": "markdown",
   "metadata": {},
   "source": [
    "### ANALISANDO DADOS INICIAIS ANTES DA CONSULTA"
   ]
  },
  {
   "cell_type": "code",
   "execution_count": 3,
   "metadata": {},
   "outputs": [
    {
     "output_type": "execute_result",
     "data": {
      "text/plain": "Razão social    363\nCNPJ            363\ndtype: int64"
     },
     "metadata": {},
     "execution_count": 3
    }
   ],
   "source": [
    "database = pd.read_csv(\"data/database.csv\", sep=\",\")\n",
    "database.count()"
   ]
  },
  {
   "cell_type": "code",
   "execution_count": 4,
   "metadata": {},
   "outputs": [
    {
     "output_type": "execute_result",
     "data": {
      "text/plain": "                             Razão social                CNPJ\n0                    BANCO DO BRASIL S.A.  00.000.000/0001-91\n1                BRB-BANCO DE BRASILIA SA  00.000.208/0001-00\n2       CENTRAIS ELETRICAS BRASILEIRAS SA  00.001.180/0001-26\n3  COMPANHIA ENERGÉTICA DE BRASÍLIA – CEB  00.070.698/0001-11\n4                                 CIMS SA  00.272.185/0001-93",
      "text/html": "<div>\n<style scoped>\n    .dataframe tbody tr th:only-of-type {\n        vertical-align: middle;\n    }\n\n    .dataframe tbody tr th {\n        vertical-align: top;\n    }\n\n    .dataframe thead th {\n        text-align: right;\n    }\n</style>\n<table border=\"1\" class=\"dataframe\">\n  <thead>\n    <tr style=\"text-align: right;\">\n      <th></th>\n      <th>Razão social</th>\n      <th>CNPJ</th>\n    </tr>\n  </thead>\n  <tbody>\n    <tr>\n      <th>0</th>\n      <td>BANCO DO BRASIL S.A.</td>\n      <td>00.000.000/0001-91</td>\n    </tr>\n    <tr>\n      <th>1</th>\n      <td>BRB-BANCO DE BRASILIA SA</td>\n      <td>00.000.208/0001-00</td>\n    </tr>\n    <tr>\n      <th>2</th>\n      <td>CENTRAIS ELETRICAS BRASILEIRAS SA</td>\n      <td>00.001.180/0001-26</td>\n    </tr>\n    <tr>\n      <th>3</th>\n      <td>COMPANHIA ENERGÉTICA DE BRASÍLIA – CEB</td>\n      <td>00.070.698/0001-11</td>\n    </tr>\n    <tr>\n      <th>4</th>\n      <td>CIMS SA</td>\n      <td>00.272.185/0001-93</td>\n    </tr>\n  </tbody>\n</table>\n</div>"
     },
     "metadata": {},
     "execution_count": 4
    }
   ],
   "source": [
    "database.head()"
   ]
  },
  {
   "cell_type": "markdown",
   "metadata": {},
   "source": [
    "### ANALISANDO DADOS DE RETORNO DA API"
   ]
  },
  {
   "cell_type": "code",
   "execution_count": 5,
   "metadata": {},
   "outputs": [
    {
     "output_type": "execute_result",
     "data": {
      "text/plain": "razao_social         363\nnome                 363\ncnpj                 363\ntext                 363\ncnae                 363\nsituacao             363\nfantasia             117\nabertura             363\nemail                283\ntelefone             328\ntipo                 363\nnatureza_juridica    363\nbairro               362\ncep                  362\nuf                   362\ndtype: int64"
     },
     "metadata": {},
     "execution_count": 5
    }
   ],
   "source": [
    "base_tratada = pd.read_csv(\"data/base_tratada.csv\", sep=\",\")\n",
    "base_tratada.count()"
   ]
  },
  {
   "cell_type": "code",
   "execution_count": 6,
   "metadata": {},
   "outputs": [
    {
     "output_type": "execute_result",
     "data": {
      "text/plain": "                             razao_social                               nome  \\\n0                    BANCO DO BRASIL S.A.                 BANCO DO BRASIL SA   \n1                BRB-BANCO DE BRASILIA SA           BRB BANCO DE BRASILIA SA   \n2       CENTRAIS ELETRICAS BRASILEIRAS SA  CENTRAIS ELETRICAS BRASILEIRAS SA   \n3  COMPANHIA ENERGÉTICA DE BRASÍLIA – CEB   COMPANHIA ENERGETICA DE BRASILIA   \n4                                 CIMS SA                          CIMS S.A.   \n\n                 cnpj                                      text        cnae  \\\n0  00.000.000/0001-91  Bancos múltiplos, com carteira comercial  64.22-1-00   \n1  00.000.208/0001-00  Bancos múltiplos, com carteira comercial  64.22-1-00   \n2  00.001.180/0001-26  Holdings de instituições não-financeiras  64.62-0-00   \n3  00.070.698/0001-11          Distribuição de energia elétrica  35.14-0-00   \n4  00.272.185/0001-93  Holdings de instituições não-financeiras  64.62-0-00   \n\n  situacao       fantasia    abertura                       email  \\\n0    ATIVA  DIRECAO GERAL  01/08/1966             secex@bb.com.br   \n1    ATIVA            BRB  04/08/1966           ggedac@brb.com.br   \n2    ATIVA     ELETROBRAS  19/08/1966         dfct@eletrobras.com   \n3    ATIVA            CEB  17/01/1969    cleberpereira@ceb.com.br   \n4    ATIVA            NaN  18/10/1994  juridico@vincipartners.com   \n\n                         telefone    tipo  \\\n0                  (61) 3493-9002  MATRIZ   \n1  (61) 3412-8528/ (61) 3412-8605  MATRIZ   \n2  (21) 2514-5887/ (21) 2514-6155  MATRIZ   \n3                  (61) 3465-9300  MATRIZ   \n4                  (21) 2159-6000  MATRIZ   \n\n                     natureza_juridica                   bairro         cep  \\\n0  203-8 - Sociedade de Economia Mista                ASA NORTE  70.040-912   \n1  203-8 - Sociedade de Economia Mista                  ASA SUL  70.072-900   \n2  203-8 - Sociedade de Economia Mista                ASA NORTE  70.716-900   \n3  203-8 - Sociedade de Economia Mista  ZONA INDUSTRIAL (GUARA)  71.215-902   \n4     204-6 - Sociedade Anônima Aberta                   LEBLON  22.431-002   \n\n   uf  \n0  DF  \n1  DF  \n2  DF  \n3  DF  \n4  RJ  ",
      "text/html": "<div>\n<style scoped>\n    .dataframe tbody tr th:only-of-type {\n        vertical-align: middle;\n    }\n\n    .dataframe tbody tr th {\n        vertical-align: top;\n    }\n\n    .dataframe thead th {\n        text-align: right;\n    }\n</style>\n<table border=\"1\" class=\"dataframe\">\n  <thead>\n    <tr style=\"text-align: right;\">\n      <th></th>\n      <th>razao_social</th>\n      <th>nome</th>\n      <th>cnpj</th>\n      <th>text</th>\n      <th>cnae</th>\n      <th>situacao</th>\n      <th>fantasia</th>\n      <th>abertura</th>\n      <th>email</th>\n      <th>telefone</th>\n      <th>tipo</th>\n      <th>natureza_juridica</th>\n      <th>bairro</th>\n      <th>cep</th>\n      <th>uf</th>\n    </tr>\n  </thead>\n  <tbody>\n    <tr>\n      <th>0</th>\n      <td>BANCO DO BRASIL S.A.</td>\n      <td>BANCO DO BRASIL SA</td>\n      <td>00.000.000/0001-91</td>\n      <td>Bancos múltiplos, com carteira comercial</td>\n      <td>64.22-1-00</td>\n      <td>ATIVA</td>\n      <td>DIRECAO GERAL</td>\n      <td>01/08/1966</td>\n      <td>secex@bb.com.br</td>\n      <td>(61) 3493-9002</td>\n      <td>MATRIZ</td>\n      <td>203-8 - Sociedade de Economia Mista</td>\n      <td>ASA NORTE</td>\n      <td>70.040-912</td>\n      <td>DF</td>\n    </tr>\n    <tr>\n      <th>1</th>\n      <td>BRB-BANCO DE BRASILIA SA</td>\n      <td>BRB BANCO DE BRASILIA SA</td>\n      <td>00.000.208/0001-00</td>\n      <td>Bancos múltiplos, com carteira comercial</td>\n      <td>64.22-1-00</td>\n      <td>ATIVA</td>\n      <td>BRB</td>\n      <td>04/08/1966</td>\n      <td>ggedac@brb.com.br</td>\n      <td>(61) 3412-8528/ (61) 3412-8605</td>\n      <td>MATRIZ</td>\n      <td>203-8 - Sociedade de Economia Mista</td>\n      <td>ASA SUL</td>\n      <td>70.072-900</td>\n      <td>DF</td>\n    </tr>\n    <tr>\n      <th>2</th>\n      <td>CENTRAIS ELETRICAS BRASILEIRAS SA</td>\n      <td>CENTRAIS ELETRICAS BRASILEIRAS SA</td>\n      <td>00.001.180/0001-26</td>\n      <td>Holdings de instituições não-financeiras</td>\n      <td>64.62-0-00</td>\n      <td>ATIVA</td>\n      <td>ELETROBRAS</td>\n      <td>19/08/1966</td>\n      <td>dfct@eletrobras.com</td>\n      <td>(21) 2514-5887/ (21) 2514-6155</td>\n      <td>MATRIZ</td>\n      <td>203-8 - Sociedade de Economia Mista</td>\n      <td>ASA NORTE</td>\n      <td>70.716-900</td>\n      <td>DF</td>\n    </tr>\n    <tr>\n      <th>3</th>\n      <td>COMPANHIA ENERGÉTICA DE BRASÍLIA – CEB</td>\n      <td>COMPANHIA ENERGETICA DE BRASILIA</td>\n      <td>00.070.698/0001-11</td>\n      <td>Distribuição de energia elétrica</td>\n      <td>35.14-0-00</td>\n      <td>ATIVA</td>\n      <td>CEB</td>\n      <td>17/01/1969</td>\n      <td>cleberpereira@ceb.com.br</td>\n      <td>(61) 3465-9300</td>\n      <td>MATRIZ</td>\n      <td>203-8 - Sociedade de Economia Mista</td>\n      <td>ZONA INDUSTRIAL (GUARA)</td>\n      <td>71.215-902</td>\n      <td>DF</td>\n    </tr>\n    <tr>\n      <th>4</th>\n      <td>CIMS SA</td>\n      <td>CIMS S.A.</td>\n      <td>00.272.185/0001-93</td>\n      <td>Holdings de instituições não-financeiras</td>\n      <td>64.62-0-00</td>\n      <td>ATIVA</td>\n      <td>NaN</td>\n      <td>18/10/1994</td>\n      <td>juridico@vincipartners.com</td>\n      <td>(21) 2159-6000</td>\n      <td>MATRIZ</td>\n      <td>204-6 - Sociedade Anônima Aberta</td>\n      <td>LEBLON</td>\n      <td>22.431-002</td>\n      <td>RJ</td>\n    </tr>\n  </tbody>\n</table>\n</div>"
     },
     "metadata": {},
     "execution_count": 6
    }
   ],
   "source": [
    "base_tratada.head()"
   ]
  }
 ]
}